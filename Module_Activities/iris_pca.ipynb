{
 "cells": [
  {
   "cell_type": "code",
   "execution_count": 14,
   "id": "e95f633f",
   "metadata": {},
   "outputs": [],
   "source": [
    "# Import dependencies\n",
    "import pandas as pd\n",
    "from sklearn.preprocessing import StandardScaler\n",
    "from sklearn.decomposition import PCA\n",
    "from sklearn.cluster import KMeans\n",
    "import hvplot.pandas"
   ]
  },
  {
   "cell_type": "code",
   "execution_count": 15,
   "id": "72f2fc6c",
   "metadata": {},
   "outputs": [
    {
     "data": {
      "text/html": [
       "<div>\n",
       "<style scoped>\n",
       "    .dataframe tbody tr th:only-of-type {\n",
       "        vertical-align: middle;\n",
       "    }\n",
       "\n",
       "    .dataframe tbody tr th {\n",
       "        vertical-align: top;\n",
       "    }\n",
       "\n",
       "    .dataframe thead th {\n",
       "        text-align: right;\n",
       "    }\n",
       "</style>\n",
       "<table border=\"1\" class=\"dataframe\">\n",
       "  <thead>\n",
       "    <tr style=\"text-align: right;\">\n",
       "      <th></th>\n",
       "      <th>sepal_length</th>\n",
       "      <th>petal_length</th>\n",
       "      <th>sepal_width</th>\n",
       "      <th>petal_width</th>\n",
       "    </tr>\n",
       "  </thead>\n",
       "  <tbody>\n",
       "    <tr>\n",
       "      <th>0</th>\n",
       "      <td>5.1</td>\n",
       "      <td>1.4</td>\n",
       "      <td>3.5</td>\n",
       "      <td>0.2</td>\n",
       "    </tr>\n",
       "    <tr>\n",
       "      <th>1</th>\n",
       "      <td>4.9</td>\n",
       "      <td>1.4</td>\n",
       "      <td>3.0</td>\n",
       "      <td>0.2</td>\n",
       "    </tr>\n",
       "    <tr>\n",
       "      <th>2</th>\n",
       "      <td>4.7</td>\n",
       "      <td>1.3</td>\n",
       "      <td>3.2</td>\n",
       "      <td>0.2</td>\n",
       "    </tr>\n",
       "    <tr>\n",
       "      <th>3</th>\n",
       "      <td>4.6</td>\n",
       "      <td>1.5</td>\n",
       "      <td>3.1</td>\n",
       "      <td>0.2</td>\n",
       "    </tr>\n",
       "    <tr>\n",
       "      <th>4</th>\n",
       "      <td>5.0</td>\n",
       "      <td>1.4</td>\n",
       "      <td>3.6</td>\n",
       "      <td>0.2</td>\n",
       "    </tr>\n",
       "  </tbody>\n",
       "</table>\n",
       "</div>"
      ],
      "text/plain": [
       "   sepal_length  petal_length  sepal_width  petal_width\n",
       "0           5.1           1.4          3.5          0.2\n",
       "1           4.9           1.4          3.0          0.2\n",
       "2           4.7           1.3          3.2          0.2\n",
       "3           4.6           1.5          3.1          0.2\n",
       "4           5.0           1.4          3.6          0.2"
      ]
     },
     "execution_count": 15,
     "metadata": {},
     "output_type": "execute_result"
    }
   ],
   "source": [
    "# Read in new_iris_data.csv as a DataFrame\n",
    "file_path = \"Resources/new_iris_data.csv\"\n",
    "\n",
    "df_iris = pd.read_csv(file_path)\n",
    "df_iris.head()"
   ]
  },
  {
   "cell_type": "code",
   "execution_count": 16,
   "id": "e17084a0",
   "metadata": {},
   "outputs": [
    {
     "name": "stdout",
     "output_type": "stream",
     "text": [
      "[[-0.90068117 -1.3412724   1.03205722 -1.31297673]\n",
      " [-1.14301691 -1.3412724  -0.1249576  -1.31297673]\n",
      " [-1.38535265 -1.39813811  0.33784833 -1.31297673]\n",
      " [-1.50652052 -1.2844067   0.10644536 -1.31297673]\n",
      " [-1.02184904 -1.3412724   1.26346019 -1.31297673]]\n"
     ]
    }
   ],
   "source": [
    "# Standardize the features (columns) in df_iris with StandardScaler\n",
    "iris_scaled = StandardScaler().fit_transform(df_iris)\n",
    "print(iris_scaled[0:5])"
   ]
  },
  {
   "cell_type": "code",
   "execution_count": 17,
   "id": "7f3fc9f2",
   "metadata": {},
   "outputs": [],
   "source": [
    "# Initialize the PCA model\n",
    "# Use PCA to reduce the number of features from 4 to 2\n",
    "pca = PCA(n_components=2)"
   ]
  },
  {
   "cell_type": "code",
   "execution_count": 18,
   "id": "253606e0",
   "metadata": {},
   "outputs": [],
   "source": [
    "# Apply dimensionality reduction on the scaled dataset\n",
    "iris_pca = pca.fit_transform(iris_scaled)"
   ]
  },
  {
   "cell_type": "code",
   "execution_count": 19,
   "id": "cbe4b1b8",
   "metadata": {},
   "outputs": [
    {
     "data": {
      "text/html": [
       "<div>\n",
       "<style scoped>\n",
       "    .dataframe tbody tr th:only-of-type {\n",
       "        vertical-align: middle;\n",
       "    }\n",
       "\n",
       "    .dataframe tbody tr th {\n",
       "        vertical-align: top;\n",
       "    }\n",
       "\n",
       "    .dataframe thead th {\n",
       "        text-align: right;\n",
       "    }\n",
       "</style>\n",
       "<table border=\"1\" class=\"dataframe\">\n",
       "  <thead>\n",
       "    <tr style=\"text-align: right;\">\n",
       "      <th></th>\n",
       "      <th>principal component 1</th>\n",
       "      <th>principal component 2</th>\n",
       "    </tr>\n",
       "  </thead>\n",
       "  <tbody>\n",
       "    <tr>\n",
       "      <th>0</th>\n",
       "      <td>-2.264542</td>\n",
       "      <td>0.505704</td>\n",
       "    </tr>\n",
       "    <tr>\n",
       "      <th>1</th>\n",
       "      <td>-2.086426</td>\n",
       "      <td>-0.655405</td>\n",
       "    </tr>\n",
       "    <tr>\n",
       "      <th>2</th>\n",
       "      <td>-2.367950</td>\n",
       "      <td>-0.318477</td>\n",
       "    </tr>\n",
       "    <tr>\n",
       "      <th>3</th>\n",
       "      <td>-2.304197</td>\n",
       "      <td>-0.575368</td>\n",
       "    </tr>\n",
       "    <tr>\n",
       "      <th>4</th>\n",
       "      <td>-2.388777</td>\n",
       "      <td>0.674767</td>\n",
       "    </tr>\n",
       "  </tbody>\n",
       "</table>\n",
       "</div>"
      ],
      "text/plain": [
       "   principal component 1  principal component 2\n",
       "0              -2.264542               0.505704\n",
       "1              -2.086426              -0.655405\n",
       "2              -2.367950              -0.318477\n",
       "3              -2.304197              -0.575368\n",
       "4              -2.388777               0.674767"
      ]
     },
     "execution_count": 19,
     "metadata": {},
     "output_type": "execute_result"
    }
   ],
   "source": [
    "# Transform PCA data to a DataFrame\n",
    "df_iris_pca = pd.DataFrame(\n",
    "    data=iris_pca, columns=[\"principal component 1\", \"principal component 2\"])\n",
    "\n",
    "df_iris_pca.head()"
   ]
  },
  {
   "cell_type": "code",
   "execution_count": 20,
   "id": "6898f36d",
   "metadata": {},
   "outputs": [
    {
     "data": {
      "text/plain": [
       "array([0.72770452, 0.23030523])"
      ]
     },
     "execution_count": 20,
     "metadata": {},
     "output_type": "execute_result"
    }
   ],
   "source": [
    "# Use explained_variance_ratio to determine how much information can be attributed to each principal component\n",
    "pca.explained_variance_ratio_"
   ]
  },
  {
   "cell_type": "code",
   "execution_count": 21,
   "id": "3be1e400",
   "metadata": {},
   "outputs": [
    {
     "data": {},
     "metadata": {},
     "output_type": "display_data"
    },
    {
     "data": {
      "application/vnd.holoviews_exec.v0+json": "",
      "text/html": [
       "<div id='1736'>\n",
       "\n",
       "\n",
       "\n",
       "\n",
       "\n",
       "  <div class=\"bk-root\" id=\"b655df98-9b7d-43fd-980f-c4d85d18c36f\" data-root-id=\"1736\"></div>\n",
       "</div>\n",
       "<script type=\"application/javascript\">(function(root) {\n",
       "  function embed_document(root) {\n",
       "    var docs_json = {\"2058cf37-6500-4e7e-978e-35d397286c20\":{\"defs\":[{\"extends\":null,\"module\":null,\"name\":\"ReactiveHTML1\",\"overrides\":[],\"properties\":[]},{\"extends\":null,\"module\":null,\"name\":\"FlexBox1\",\"overrides\":[],\"properties\":[{\"default\":\"flex-start\",\"kind\":null,\"name\":\"align_content\"},{\"default\":\"flex-start\",\"kind\":null,\"name\":\"align_items\"},{\"default\":\"row\",\"kind\":null,\"name\":\"flex_direction\"},{\"default\":\"wrap\",\"kind\":null,\"name\":\"flex_wrap\"},{\"default\":\"flex-start\",\"kind\":null,\"name\":\"justify_content\"}]},{\"extends\":null,\"module\":null,\"name\":\"TemplateActions1\",\"overrides\":[],\"properties\":[{\"default\":0,\"kind\":null,\"name\":\"open_modal\"},{\"default\":0,\"kind\":null,\"name\":\"close_modal\"}]},{\"extends\":null,\"module\":null,\"name\":\"MaterialTemplateActions1\",\"overrides\":[],\"properties\":[{\"default\":0,\"kind\":null,\"name\":\"open_modal\"},{\"default\":0,\"kind\":null,\"name\":\"close_modal\"}]}],\"roots\":{\"references\":[{\"attributes\":{},\"id\":\"1759\",\"type\":\"PanTool\"},{\"attributes\":{\"below\":[{\"id\":\"1750\"}],\"center\":[{\"id\":\"1753\"},{\"id\":\"1757\"}],\"height\":300,\"left\":[{\"id\":\"1754\"}],\"margin\":[5,5,5,5],\"min_border_bottom\":10,\"min_border_left\":10,\"min_border_right\":10,\"min_border_top\":10,\"renderers\":[{\"id\":\"1777\"}],\"sizing_mode\":\"fixed\",\"title\":{\"id\":\"1742\"},\"toolbar\":{\"id\":\"1764\"},\"width\":700,\"x_range\":{\"id\":\"1738\"},\"x_scale\":{\"id\":\"1746\"},\"y_range\":{\"id\":\"1739\"},\"y_scale\":{\"id\":\"1748\"}},\"id\":\"1741\",\"subtype\":\"Figure\",\"type\":\"Plot\"},{\"attributes\":{\"children\":[{\"id\":\"1737\"},{\"id\":\"1741\"},{\"id\":\"1807\"}],\"margin\":[0,0,0,0],\"name\":\"Row03059\",\"tags\":[\"embedded\"]},\"id\":\"1736\",\"type\":\"Row\"},{\"attributes\":{},\"id\":\"1760\",\"type\":\"WheelZoomTool\"},{\"attributes\":{},\"id\":\"1788\",\"type\":\"AllLabels\"},{\"attributes\":{\"tools\":[{\"id\":\"1740\"},{\"id\":\"1758\"},{\"id\":\"1759\"},{\"id\":\"1760\"},{\"id\":\"1761\"},{\"id\":\"1762\"}]},\"id\":\"1764\",\"type\":\"Toolbar\"},{\"attributes\":{\"overlay\":{\"id\":\"1763\"}},\"id\":\"1761\",\"type\":\"BoxZoomTool\"},{\"attributes\":{\"line_alpha\":0.2,\"line_color\":\"#30a2da\",\"line_width\":2,\"x\":{\"field\":\"k\"},\"y\":{\"field\":\"inertia\"}},\"id\":\"1776\",\"type\":\"Line\"},{\"attributes\":{\"margin\":[5,5,5,5],\"name\":\"HSpacer03063\",\"sizing_mode\":\"stretch_width\"},\"id\":\"1737\",\"type\":\"Spacer\"},{\"attributes\":{\"axis\":{\"id\":\"1754\"},\"coordinates\":null,\"dimension\":1,\"grid_line_color\":null,\"group\":null,\"ticker\":null},\"id\":\"1757\",\"type\":\"Grid\"},{\"attributes\":{\"line_color\":\"#30a2da\",\"line_width\":2,\"x\":{\"field\":\"k\"},\"y\":{\"field\":\"inertia\"}},\"id\":\"1774\",\"type\":\"Line\"},{\"attributes\":{},\"id\":\"1762\",\"type\":\"ResetTool\"},{\"attributes\":{},\"id\":\"1783\",\"type\":\"AllLabels\"},{\"attributes\":{},\"id\":\"1746\",\"type\":\"LinearScale\"},{\"attributes\":{},\"id\":\"1795\",\"type\":\"UnionRenderers\"},{\"attributes\":{\"axis_label\":\"k\",\"coordinates\":null,\"formatter\":{\"id\":\"1782\"},\"group\":null,\"major_label_policy\":{\"id\":\"1783\"},\"ticker\":{\"id\":\"1780\"}},\"id\":\"1750\",\"type\":\"LinearAxis\"},{\"attributes\":{\"bottom_units\":\"screen\",\"coordinates\":null,\"fill_alpha\":0.5,\"fill_color\":\"lightgrey\",\"group\":null,\"left_units\":\"screen\",\"level\":\"overlay\",\"line_alpha\":1.0,\"line_color\":\"black\",\"line_dash\":[4,4],\"line_width\":2,\"right_units\":\"screen\",\"syncable\":false,\"top_units\":\"screen\"},\"id\":\"1763\",\"type\":\"BoxAnnotation\"},{\"attributes\":{},\"id\":\"1782\",\"type\":\"BasicTickFormatter\"},{\"attributes\":{},\"id\":\"1748\",\"type\":\"LinearScale\"},{\"attributes\":{},\"id\":\"1787\",\"type\":\"BasicTickFormatter\"},{\"attributes\":{\"coordinates\":null,\"group\":null,\"text\":\"Elbow Curve\",\"text_color\":\"black\",\"text_font_size\":\"12pt\"},\"id\":\"1742\",\"type\":\"Title\"},{\"attributes\":{\"line_color\":\"#30a2da\",\"line_width\":2,\"x\":{\"field\":\"k\"},\"y\":{\"field\":\"inertia\"}},\"id\":\"1779\",\"type\":\"Line\"},{\"attributes\":{\"end\":10.0,\"reset_end\":10.0,\"reset_start\":1.0,\"start\":1.0,\"tags\":[[[\"k\",\"k\",null]]]},\"id\":\"1738\",\"type\":\"Range1d\"},{\"attributes\":{\"axis\":{\"id\":\"1750\"},\"coordinates\":null,\"grid_line_color\":null,\"group\":null,\"ticker\":null},\"id\":\"1753\",\"type\":\"Grid\"},{\"attributes\":{},\"id\":\"1755\",\"type\":\"BasicTicker\"},{\"attributes\":{\"axis_label\":\"inertia\",\"coordinates\":null,\"formatter\":{\"id\":\"1787\"},\"group\":null,\"major_label_policy\":{\"id\":\"1788\"},\"ticker\":{\"id\":\"1755\"}},\"id\":\"1754\",\"type\":\"LinearAxis\"},{\"attributes\":{\"callback\":null,\"renderers\":[{\"id\":\"1777\"}],\"tags\":[\"hv_created\"],\"tooltips\":[[\"k\",\"@{k}\"],[\"inertia\",\"@{inertia}\"]]},\"id\":\"1740\",\"type\":\"HoverTool\"},{\"attributes\":{\"data\":{\"inertia\":{\"__ndarray__\":\"ZTafYnL2gUAubWBmntZoQJymqsr9Bl1AS/WgT6xnVkDc0qR94pNQQAgzFtg6gkxALIlQDTvuR0D0MOcNVaJDQOS1b3wwFkBA6i2/QpNqPEA=\",\"dtype\":\"float64\",\"order\":\"little\",\"shape\":[10]},\"k\":[1,2,3,4,5,6,7,8,9,10]},\"selected\":{\"id\":\"1772\"},\"selection_policy\":{\"id\":\"1795\"}},\"id\":\"1771\",\"type\":\"ColumnDataSource\"},{\"attributes\":{},\"id\":\"1772\",\"type\":\"Selection\"},{\"attributes\":{\"line_alpha\":0.1,\"line_color\":\"#30a2da\",\"line_width\":2,\"x\":{\"field\":\"k\"},\"y\":{\"field\":\"inertia\"}},\"id\":\"1775\",\"type\":\"Line\"},{\"attributes\":{\"coordinates\":null,\"data_source\":{\"id\":\"1771\"},\"glyph\":{\"id\":\"1774\"},\"group\":null,\"hover_glyph\":null,\"muted_glyph\":{\"id\":\"1776\"},\"nonselection_glyph\":{\"id\":\"1775\"},\"selection_glyph\":{\"id\":\"1779\"},\"view\":{\"id\":\"1778\"}},\"id\":\"1777\",\"type\":\"GlyphRenderer\"},{\"attributes\":{\"margin\":[5,5,5,5],\"name\":\"HSpacer03064\",\"sizing_mode\":\"stretch_width\"},\"id\":\"1807\",\"type\":\"Spacer\"},{\"attributes\":{\"source\":{\"id\":\"1771\"}},\"id\":\"1778\",\"type\":\"CDSView\"},{\"attributes\":{\"ticks\":[1,2,3,4,5,6,7,8,9,10]},\"id\":\"1780\",\"type\":\"FixedTicker\"},{\"attributes\":{},\"id\":\"1758\",\"type\":\"SaveTool\"},{\"attributes\":{\"end\":629.4448064337395,\"reset_end\":629.4448064337395,\"reset_start\":-26.222644744436877,\"start\":-26.222644744436877,\"tags\":[[[\"inertia\",\"inertia\",null]]]},\"id\":\"1739\",\"type\":\"Range1d\"}],\"root_ids\":[\"1736\"]},\"title\":\"Bokeh Application\",\"version\":\"2.4.2\"}};\n",
       "    var render_items = [{\"docid\":\"2058cf37-6500-4e7e-978e-35d397286c20\",\"root_ids\":[\"1736\"],\"roots\":{\"1736\":\"b655df98-9b7d-43fd-980f-c4d85d18c36f\"}}];\n",
       "    root.Bokeh.embed.embed_items_notebook(docs_json, render_items);\n",
       "  }\n",
       "  if (root.Bokeh !== undefined && root.Bokeh.Panel !== undefined) {\n",
       "    embed_document(root);\n",
       "  } else {\n",
       "    var attempts = 0;\n",
       "    var timer = setInterval(function(root) {\n",
       "      if (root.Bokeh !== undefined && root.Bokeh.Panel !== undefined) {\n",
       "        clearInterval(timer);\n",
       "        embed_document(root);\n",
       "      } else if (document.readyState == \"complete\") {\n",
       "        attempts++;\n",
       "        if (attempts > 200) {\n",
       "          clearInterval(timer);\n",
       "          console.log(\"Bokeh: ERROR: Unable to run BokehJS code because BokehJS library is missing\");\n",
       "        }\n",
       "      }\n",
       "    }, 25, root)\n",
       "  }\n",
       "})(window);</script>"
      ],
      "text/plain": [
       ":Curve   [k]   (inertia)"
      ]
     },
     "execution_count": 21,
     "metadata": {
      "application/vnd.holoviews_exec.v0+json": {
       "id": "1736"
      }
     },
     "output_type": "execute_result"
    }
   ],
   "source": [
    "# Use the elbow curve with the generated principal components to determine the K value\n",
    "\n",
    "# Find the best value for K\n",
    "inertia = []\n",
    "k = list(range(1, 11))\n",
    "\n",
    "# Calculate the inertia for the range of K values\n",
    "for i in k:\n",
    "    km = KMeans(n_clusters=i, random_state=0)\n",
    "    km.fit(df_iris_pca)\n",
    "    inertia.append(km.inertia_)\n",
    "    \n",
    "# Create the elbow curve\n",
    "elbow_data = {\"k\": k, \"inertia\": inertia}\n",
    "df_elbow = pd.DataFrame(elbow_data)\n",
    "df_elbow.hvplot.line(x=\"k\", y=\"inertia\", xticks=k, title=\"Elbow Curve\")"
   ]
  },
  {
   "cell_type": "code",
   "execution_count": 22,
   "id": "81f91558",
   "metadata": {},
   "outputs": [
    {
     "data": {
      "text/html": [
       "<div>\n",
       "<style scoped>\n",
       "    .dataframe tbody tr th:only-of-type {\n",
       "        vertical-align: middle;\n",
       "    }\n",
       "\n",
       "    .dataframe tbody tr th {\n",
       "        vertical-align: top;\n",
       "    }\n",
       "\n",
       "    .dataframe thead th {\n",
       "        text-align: right;\n",
       "    }\n",
       "</style>\n",
       "<table border=\"1\" class=\"dataframe\">\n",
       "  <thead>\n",
       "    <tr style=\"text-align: right;\">\n",
       "      <th></th>\n",
       "      <th>principal component 1</th>\n",
       "      <th>principal component 2</th>\n",
       "      <th>class</th>\n",
       "    </tr>\n",
       "  </thead>\n",
       "  <tbody>\n",
       "    <tr>\n",
       "      <th>0</th>\n",
       "      <td>-2.264542</td>\n",
       "      <td>0.505704</td>\n",
       "      <td>0</td>\n",
       "    </tr>\n",
       "    <tr>\n",
       "      <th>1</th>\n",
       "      <td>-2.086426</td>\n",
       "      <td>-0.655405</td>\n",
       "      <td>0</td>\n",
       "    </tr>\n",
       "    <tr>\n",
       "      <th>2</th>\n",
       "      <td>-2.367950</td>\n",
       "      <td>-0.318477</td>\n",
       "      <td>0</td>\n",
       "    </tr>\n",
       "    <tr>\n",
       "      <th>3</th>\n",
       "      <td>-2.304197</td>\n",
       "      <td>-0.575368</td>\n",
       "      <td>0</td>\n",
       "    </tr>\n",
       "    <tr>\n",
       "      <th>4</th>\n",
       "      <td>-2.388777</td>\n",
       "      <td>0.674767</td>\n",
       "      <td>0</td>\n",
       "    </tr>\n",
       "  </tbody>\n",
       "</table>\n",
       "</div>"
      ],
      "text/plain": [
       "   principal component 1  principal component 2  class\n",
       "0              -2.264542               0.505704      0\n",
       "1              -2.086426              -0.655405      0\n",
       "2              -2.367950              -0.318477      0\n",
       "3              -2.304197              -0.575368      0\n",
       "4              -2.388777               0.674767      0"
      ]
     },
     "execution_count": 22,
     "metadata": {},
     "output_type": "execute_result"
    }
   ],
   "source": [
    "# Use the principal components data with the K-means algorithm with a K value of 3\n",
    "\n",
    "# Intialize the K-means model\n",
    "model = KMeans(n_clusters=3, random_state=0)\n",
    "\n",
    "# Fit the model\n",
    "model.fit(df_iris_pca)\n",
    "\n",
    "# Predict clusters\n",
    "prediction = model.predict(df_iris_pca)\n",
    "\n",
    "# Add the predicted class columns\n",
    "df_iris_pca[\"class\"] = model.labels_\n",
    "df_iris_pca.head()"
   ]
  },
  {
   "cell_type": "code",
   "execution_count": 23,
   "id": "371c46aa",
   "metadata": {},
   "outputs": [
    {
     "data": {},
     "metadata": {},
     "output_type": "display_data"
    },
    {
     "data": {
      "application/vnd.holoviews_exec.v0+json": "",
      "text/html": [
       "<div id='1854'>\n",
       "\n",
       "\n",
       "\n",
       "\n",
       "\n",
       "  <div class=\"bk-root\" id=\"bcf3f69a-9c74-4e6a-9db4-baca18ccbac8\" data-root-id=\"1854\"></div>\n",
       "</div>\n",
       "<script type=\"application/javascript\">(function(root) {\n",
       "  function embed_document(root) {\n",
       "    var docs_json = {\"707d502c-3bbb-4fea-96b1-1d2a5f89ff7f\":{\"defs\":[{\"extends\":null,\"module\":null,\"name\":\"ReactiveHTML1\",\"overrides\":[],\"properties\":[]},{\"extends\":null,\"module\":null,\"name\":\"FlexBox1\",\"overrides\":[],\"properties\":[{\"default\":\"flex-start\",\"kind\":null,\"name\":\"align_content\"},{\"default\":\"flex-start\",\"kind\":null,\"name\":\"align_items\"},{\"default\":\"row\",\"kind\":null,\"name\":\"flex_direction\"},{\"default\":\"wrap\",\"kind\":null,\"name\":\"flex_wrap\"},{\"default\":\"flex-start\",\"kind\":null,\"name\":\"justify_content\"}]},{\"extends\":null,\"module\":null,\"name\":\"TemplateActions1\",\"overrides\":[],\"properties\":[{\"default\":0,\"kind\":null,\"name\":\"open_modal\"},{\"default\":0,\"kind\":null,\"name\":\"close_modal\"}]},{\"extends\":null,\"module\":null,\"name\":\"MaterialTemplateActions1\",\"overrides\":[],\"properties\":[{\"default\":0,\"kind\":null,\"name\":\"open_modal\"},{\"default\":0,\"kind\":null,\"name\":\"close_modal\"}]}],\"roots\":{\"references\":[{\"attributes\":{\"margin\":[5,5,5,5],\"name\":\"HSpacer03294\",\"sizing_mode\":\"stretch_width\"},\"id\":\"1855\",\"type\":\"Spacer\"},{\"attributes\":{},\"id\":\"1868\",\"type\":\"LinearScale\"},{\"attributes\":{\"fill_alpha\":{\"value\":0.2},\"fill_color\":{\"value\":\"#fc4f30\"},\"hatch_alpha\":{\"value\":0.2},\"hatch_color\":{\"value\":\"#fc4f30\"},\"line_alpha\":{\"value\":0.2},\"line_color\":{\"value\":\"#fc4f30\"},\"size\":{\"value\":5.477225575051661},\"x\":{\"field\":\"principal component 1\"},\"y\":{\"field\":\"principal component 2\"}},\"id\":\"1923\",\"type\":\"Scatter\"},{\"attributes\":{\"coordinates\":null,\"data_source\":{\"id\":\"1918\"},\"glyph\":{\"id\":\"1921\"},\"group\":null,\"hover_glyph\":null,\"muted_glyph\":{\"id\":\"1923\"},\"nonselection_glyph\":{\"id\":\"1922\"},\"selection_glyph\":{\"id\":\"1939\"},\"view\":{\"id\":\"1925\"}},\"id\":\"1924\",\"type\":\"GlyphRenderer\"},{\"attributes\":{},\"id\":\"1882\",\"type\":\"ResetTool\"},{\"attributes\":{},\"id\":\"1871\",\"type\":\"BasicTicker\"},{\"attributes\":{\"axis\":{\"id\":\"1874\"},\"coordinates\":null,\"dimension\":1,\"grid_line_color\":null,\"group\":null,\"ticker\":null},\"id\":\"1877\",\"type\":\"Grid\"},{\"attributes\":{\"bottom_units\":\"screen\",\"coordinates\":null,\"fill_alpha\":0.5,\"fill_color\":\"lightgrey\",\"group\":null,\"left_units\":\"screen\",\"level\":\"overlay\",\"line_alpha\":1.0,\"line_color\":\"black\",\"line_dash\":[4,4],\"line_width\":2,\"right_units\":\"screen\",\"syncable\":false,\"top_units\":\"screen\"},\"id\":\"1883\",\"type\":\"BoxAnnotation\"},{\"attributes\":{\"coordinates\":null,\"group\":null,\"text_color\":\"black\",\"text_font_size\":\"12pt\"},\"id\":\"1862\",\"type\":\"Title\"},{\"attributes\":{\"click_policy\":\"mute\",\"coordinates\":null,\"group\":null,\"items\":[{\"id\":\"1916\"},{\"id\":\"1938\"},{\"id\":\"1962\"}],\"location\":[0,0],\"title\":\"class\"},\"id\":\"1915\",\"type\":\"Legend\"},{\"attributes\":{\"source\":{\"id\":\"1897\"}},\"id\":\"1904\",\"type\":\"CDSView\"},{\"attributes\":{\"fill_alpha\":{\"value\":0.1},\"fill_color\":{\"value\":\"#fc4f30\"},\"hatch_alpha\":{\"value\":0.1},\"hatch_color\":{\"value\":\"#fc4f30\"},\"line_alpha\":{\"value\":0.1},\"line_color\":{\"value\":\"#fc4f30\"},\"size\":{\"value\":5.477225575051661},\"x\":{\"field\":\"principal component 1\"},\"y\":{\"field\":\"principal component 2\"}},\"id\":\"1922\",\"type\":\"Scatter\"},{\"attributes\":{\"fill_alpha\":{\"value\":0.1},\"fill_color\":{\"value\":\"#30a2da\"},\"hatch_alpha\":{\"value\":0.1},\"hatch_color\":{\"value\":\"#30a2da\"},\"line_alpha\":{\"value\":0.1},\"line_color\":{\"value\":\"#30a2da\"},\"size\":{\"value\":5.477225575051661},\"x\":{\"field\":\"principal component 1\"},\"y\":{\"field\":\"principal component 2\"}},\"id\":\"1901\",\"type\":\"Scatter\"},{\"attributes\":{\"angle\":{\"value\":0.0},\"fill_alpha\":{\"value\":1.0},\"fill_color\":{\"value\":\"#fc4f30\"},\"hatch_alpha\":{\"value\":1.0},\"hatch_color\":{\"value\":\"#fc4f30\"},\"hatch_scale\":{\"value\":12.0},\"hatch_weight\":{\"value\":1.0},\"line_alpha\":{\"value\":1.0},\"line_cap\":{\"value\":\"butt\"},\"line_color\":{\"value\":\"#fc4f30\"},\"line_dash\":{\"value\":[]},\"line_dash_offset\":{\"value\":0},\"line_join\":{\"value\":\"bevel\"},\"line_width\":{\"value\":1},\"marker\":{\"value\":\"circle\"},\"size\":{\"value\":5.477225575051661},\"x\":{\"field\":\"principal component 1\"},\"y\":{\"field\":\"principal component 2\"}},\"id\":\"1939\",\"type\":\"Scatter\"},{\"attributes\":{\"axis_label\":\"principal component 1\",\"coordinates\":null,\"formatter\":{\"id\":\"1892\"},\"group\":null,\"major_label_policy\":{\"id\":\"1893\"},\"ticker\":{\"id\":\"1871\"}},\"id\":\"1870\",\"type\":\"LinearAxis\"},{\"attributes\":{\"fill_color\":{\"value\":\"#30a2da\"},\"hatch_color\":{\"value\":\"#30a2da\"},\"line_color\":{\"value\":\"#30a2da\"},\"size\":{\"value\":5.477225575051661},\"x\":{\"field\":\"principal component 1\"},\"y\":{\"field\":\"principal component 2\"}},\"id\":\"1900\",\"type\":\"Scatter\"},{\"attributes\":{\"children\":[{\"id\":\"1855\"},{\"id\":\"1861\"},{\"id\":\"2090\"}],\"margin\":[0,0,0,0],\"name\":\"Row03290\",\"tags\":[\"embedded\"]},\"id\":\"1854\",\"type\":\"Row\"},{\"attributes\":{\"axis\":{\"id\":\"1870\"},\"coordinates\":null,\"grid_line_color\":null,\"group\":null,\"ticker\":null},\"id\":\"1873\",\"type\":\"Grid\"},{\"attributes\":{},\"id\":\"1912\",\"type\":\"UnionRenderers\"},{\"attributes\":{\"source\":{\"id\":\"1940\"}},\"id\":\"1947\",\"type\":\"CDSView\"},{\"attributes\":{\"label\":{\"value\":\"0\"},\"renderers\":[{\"id\":\"1903\"}]},\"id\":\"1916\",\"type\":\"LegendItem\"},{\"attributes\":{\"source\":{\"id\":\"1918\"}},\"id\":\"1925\",\"type\":\"CDSView\"},{\"attributes\":{},\"id\":\"1875\",\"type\":\"BasicTicker\"},{\"attributes\":{\"label\":{\"value\":\"1\"},\"renderers\":[{\"id\":\"1924\"}]},\"id\":\"1938\",\"type\":\"LegendItem\"},{\"attributes\":{\"axis_label\":\"principal component 2\",\"coordinates\":null,\"formatter\":{\"id\":\"1895\"},\"group\":null,\"major_label_policy\":{\"id\":\"1896\"},\"ticker\":{\"id\":\"1875\"}},\"id\":\"1874\",\"type\":\"LinearAxis\"},{\"attributes\":{\"fill_alpha\":{\"value\":0.2},\"fill_color\":{\"value\":\"#e5ae38\"},\"hatch_alpha\":{\"value\":0.2},\"hatch_color\":{\"value\":\"#e5ae38\"},\"line_alpha\":{\"value\":0.2},\"line_color\":{\"value\":\"#e5ae38\"},\"size\":{\"value\":5.477225575051661},\"x\":{\"field\":\"principal component 1\"},\"y\":{\"field\":\"principal component 2\"}},\"id\":\"1945\",\"type\":\"Scatter\"},{\"attributes\":{\"angle\":{\"value\":0.0},\"fill_alpha\":{\"value\":1.0},\"fill_color\":{\"value\":\"#e5ae38\"},\"hatch_alpha\":{\"value\":1.0},\"hatch_color\":{\"value\":\"#e5ae38\"},\"hatch_scale\":{\"value\":12.0},\"hatch_weight\":{\"value\":1.0},\"line_alpha\":{\"value\":1.0},\"line_cap\":{\"value\":\"butt\"},\"line_color\":{\"value\":\"#e5ae38\"},\"line_dash\":{\"value\":[]},\"line_dash_offset\":{\"value\":0},\"line_join\":{\"value\":\"bevel\"},\"line_width\":{\"value\":1},\"marker\":{\"value\":\"circle\"},\"size\":{\"value\":5.477225575051661},\"x\":{\"field\":\"principal component 1\"},\"y\":{\"field\":\"principal component 2\"}},\"id\":\"1963\",\"type\":\"Scatter\"},{\"attributes\":{\"overlay\":{\"id\":\"1883\"}},\"id\":\"1881\",\"type\":\"BoxZoomTool\"},{\"attributes\":{\"end\":3.569854510235274,\"reset_end\":3.569854510235274,\"reset_start\":-3.034883121264352,\"start\":-3.034883121264352,\"tags\":[[[\"principal component 1\",\"principal component 1\",null]]]},\"id\":\"1856\",\"type\":\"Range1d\"},{\"attributes\":{\"data\":{\"class\":{\"__ndarray__\":\"AQAAAAEAAAABAAAAAQAAAAEAAAABAAAAAQAAAAEAAAABAAAAAQAAAAEAAAABAAAAAQAAAAEAAAABAAAAAQAAAAEAAAABAAAAAQAAAAEAAAABAAAAAQAAAAEAAAABAAAAAQAAAAEAAAABAAAAAQAAAAEAAAABAAAAAQAAAAEAAAABAAAAAQAAAAEAAAABAAAAAQAAAAEAAAABAAAAAQAAAAEAAAABAAAAAQAAAAEAAAABAAAAAQAAAAEAAAABAAAAAQAAAAEAAAABAAAAAQAAAAEAAAA=\",\"dtype\":\"int32\",\"order\":\"little\",\"shape\":[53]},\"principal component 1\":{\"__ndarray__\":\"dBWMhntt2T9HnJZFWCnxP2GBHlf2mtg/9P4dZv7c379uGywXnaPtP96/kDZaWXQ/Kd6FPizsv7+sz+h8JxTcP1BNsk78puE/NkUqJwTz5j+7z63ghxOjv5Zu06S8RdY/07Iv7V2iwz9j6iTH4XHzPyHYZACmFsQ/Va1SDE473j8NyjX41qXzP4cxy7fjI+Q/GNCK7kVq5j8bhVUnIzDlP/Eb1FJINai/Lz98rN0cvz9Gj1g5BOqMPxLf6GWaNc4/DM1ZRTXo8D+YsJMoZVfMP8ybvwf1kvA/o14TnFcrsT9uNwN1kKDRP799yQ7wbdE/oo3+VwPx4z+v3kvRzh7VP8/EFNWD6de/0yTllsIb0j8lX21EL8y2P/sjQhu5t8w/8ARG5kBd4j/fjFDrsj/dv9uA0gDGJNA/218IKHdz8j/ooUp+m+/WP1n35HGkDPQ/GOKIxsts9z/3RPpdThD0P4litwdQKu8/8IqkmmBE9T9ffP3wHsDyP9z2a9zEx/E/JzazatUo8z+VvvFQw4ztP9tfCCh3c/I/RdVbMZXv+D802SvtkrLuPw==\",\"dtype\":\"float64\",\"order\":\"little\",\"shape\":[53]},\"principal component 2\":{\"__ndarray__\":\"jM0hw3Uh/L+WAFcJ4hrLv+gVlNb76eK/XpSza/eU/b84i2FUCw+fP+LLA01tePC/8IKEXbZDBcCS9gYTsCWuv0fNqHx+XPy/0nstxk+8x78nLLY26rLbv++9JkVKZsi/kInUeJ9N6b9g5T6HOSL6v7lAi9CC2fS/tQipiLWp2r9Er8dW+Rvuv+PFU70Krdq/MDfCViNBsL9WGdg+X7fMv2YFEZBX6vC/Z8J8cXkE+b9o1i92nSz5vz+ekB1e1Oi/CC0SzX5h5L9obj2aaPnRv7uLs++KR/a/dMdo/yc3y786ZwsN7Ub1vyEJ/oM76fG//8Ud1SI0nD9k68QlE6Xvv8vC5Ku5JADAnEs7dJBT67+ZjkY+Z2PGv0T2R1TcWdi/iDq1mhitw7+y+86JpaH4v6J6HI5KEeO/QghbdkNx5r8zlg29Jfb4v4wxaImirfK/ma9g7els3L9MKnQyOXv7vznNWXwPR+K/P2wdsBUn37/A2YlbzWjUv/iTgLFv8dK/Rq/b9jwm6r+2AFtSILGTP0IIW3ZDcea/vVrVOlT47L+PCSw2mtGWvw==\",\"dtype\":\"float64\",\"order\":\"little\",\"shape\":[53]},\"principal_component_1\":{\"__ndarray__\":\"dBWMhntt2T9HnJZFWCnxP2GBHlf2mtg/9P4dZv7c379uGywXnaPtP96/kDZaWXQ/Kd6FPizsv7+sz+h8JxTcP1BNsk78puE/NkUqJwTz5j+7z63ghxOjv5Zu06S8RdY/07Iv7V2iwz9j6iTH4XHzPyHYZACmFsQ/Va1SDE473j8NyjX41qXzP4cxy7fjI+Q/GNCK7kVq5j8bhVUnIzDlP/Eb1FJINai/Lz98rN0cvz9Gj1g5BOqMPxLf6GWaNc4/DM1ZRTXo8D+YsJMoZVfMP8ybvwf1kvA/o14TnFcrsT9uNwN1kKDRP799yQ7wbdE/oo3+VwPx4z+v3kvRzh7VP8/EFNWD6de/0yTllsIb0j8lX21EL8y2P/sjQhu5t8w/8ARG5kBd4j/fjFDrsj/dv9uA0gDGJNA/218IKHdz8j/ooUp+m+/WP1n35HGkDPQ/GOKIxsts9z/3RPpdThD0P4litwdQKu8/8IqkmmBE9T9ffP3wHsDyP9z2a9zEx/E/JzazatUo8z+VvvFQw4ztP9tfCCh3c/I/RdVbMZXv+D802SvtkrLuPw==\",\"dtype\":\"float64\",\"order\":\"little\",\"shape\":[53]},\"principal_component_2\":{\"__ndarray__\":\"jM0hw3Uh/L+WAFcJ4hrLv+gVlNb76eK/XpSza/eU/b84i2FUCw+fP+LLA01tePC/8IKEXbZDBcCS9gYTsCWuv0fNqHx+XPy/0nstxk+8x78nLLY26rLbv++9JkVKZsi/kInUeJ9N6b9g5T6HOSL6v7lAi9CC2fS/tQipiLWp2r9Er8dW+Rvuv+PFU70Krdq/MDfCViNBsL9WGdg+X7fMv2YFEZBX6vC/Z8J8cXkE+b9o1i92nSz5vz+ekB1e1Oi/CC0SzX5h5L9obj2aaPnRv7uLs++KR/a/dMdo/yc3y786ZwsN7Ub1vyEJ/oM76fG//8Ud1SI0nD9k68QlE6Xvv8vC5Ku5JADAnEs7dJBT67+ZjkY+Z2PGv0T2R1TcWdi/iDq1mhitw7+y+86JpaH4v6J6HI5KEeO/QghbdkNx5r8zlg29Jfb4v4wxaImirfK/ma9g7els3L9MKnQyOXv7vznNWXwPR+K/P2wdsBUn37/A2YlbzWjUv/iTgLFv8dK/Rq/b9jwm6r+2AFtSILGTP0IIW3ZDcea/vVrVOlT47L+PCSw2mtGWvw==\",\"dtype\":\"float64\",\"order\":\"little\",\"shape\":[53]}},\"selected\":{\"id\":\"1919\"},\"selection_policy\":{\"id\":\"1935\"}},\"id\":\"1918\",\"type\":\"ColumnDataSource\"},{\"attributes\":{},\"id\":\"1935\",\"type\":\"UnionRenderers\"},{\"attributes\":{},\"id\":\"1866\",\"type\":\"LinearScale\"},{\"attributes\":{},\"id\":\"1896\",\"type\":\"AllLabels\"},{\"attributes\":{},\"id\":\"1959\",\"type\":\"UnionRenderers\"},{\"attributes\":{\"fill_alpha\":{\"value\":0.2},\"fill_color\":{\"value\":\"#30a2da\"},\"hatch_alpha\":{\"value\":0.2},\"hatch_color\":{\"value\":\"#30a2da\"},\"line_alpha\":{\"value\":0.2},\"line_color\":{\"value\":\"#30a2da\"},\"size\":{\"value\":5.477225575051661},\"x\":{\"field\":\"principal component 1\"},\"y\":{\"field\":\"principal component 2\"}},\"id\":\"1902\",\"type\":\"Scatter\"},{\"attributes\":{},\"id\":\"1898\",\"type\":\"Selection\"},{\"attributes\":{\"coordinates\":null,\"data_source\":{\"id\":\"1897\"},\"glyph\":{\"id\":\"1900\"},\"group\":null,\"hover_glyph\":null,\"muted_glyph\":{\"id\":\"1902\"},\"nonselection_glyph\":{\"id\":\"1901\"},\"selection_glyph\":{\"id\":\"1917\"},\"view\":{\"id\":\"1904\"}},\"id\":\"1903\",\"type\":\"GlyphRenderer\"},{\"attributes\":{\"coordinates\":null,\"data_source\":{\"id\":\"1940\"},\"glyph\":{\"id\":\"1943\"},\"group\":null,\"hover_glyph\":null,\"muted_glyph\":{\"id\":\"1945\"},\"nonselection_glyph\":{\"id\":\"1944\"},\"selection_glyph\":{\"id\":\"1963\"},\"view\":{\"id\":\"1947\"}},\"id\":\"1946\",\"type\":\"GlyphRenderer\"},{\"attributes\":{\"below\":[{\"id\":\"1870\"}],\"center\":[{\"id\":\"1873\"},{\"id\":\"1877\"}],\"height\":300,\"left\":[{\"id\":\"1874\"}],\"margin\":[5,5,5,5],\"min_border_bottom\":10,\"min_border_left\":10,\"min_border_right\":10,\"min_border_top\":10,\"renderers\":[{\"id\":\"1903\"},{\"id\":\"1924\"},{\"id\":\"1946\"}],\"right\":[{\"id\":\"1915\"}],\"sizing_mode\":\"fixed\",\"title\":{\"id\":\"1862\"},\"toolbar\":{\"id\":\"1884\"},\"width\":700,\"x_range\":{\"id\":\"1856\"},\"x_scale\":{\"id\":\"1866\"},\"y_range\":{\"id\":\"1857\"},\"y_scale\":{\"id\":\"1868\"}},\"id\":\"1861\",\"subtype\":\"Figure\",\"type\":\"Plot\"},{\"attributes\":{\"angle\":{\"value\":0.0},\"fill_alpha\":{\"value\":1.0},\"fill_color\":{\"value\":\"#30a2da\"},\"hatch_alpha\":{\"value\":1.0},\"hatch_color\":{\"value\":\"#30a2da\"},\"hatch_scale\":{\"value\":12.0},\"hatch_weight\":{\"value\":1.0},\"line_alpha\":{\"value\":1.0},\"line_cap\":{\"value\":\"butt\"},\"line_color\":{\"value\":\"#30a2da\"},\"line_dash\":{\"value\":[]},\"line_dash_offset\":{\"value\":0},\"line_join\":{\"value\":\"bevel\"},\"line_width\":{\"value\":1},\"marker\":{\"value\":\"circle\"},\"size\":{\"value\":5.477225575051661},\"x\":{\"field\":\"principal component 1\"},\"y\":{\"field\":\"principal component 2\"}},\"id\":\"1917\",\"type\":\"Scatter\"},{\"attributes\":{\"data\":{\"class\":{\"__ndarray__\":\"AgAAAAIAAAACAAAAAgAAAAIAAAACAAAAAgAAAAIAAAACAAAAAgAAAAIAAAACAAAAAgAAAAIAAAACAAAAAgAAAAIAAAACAAAAAgAAAAIAAAACAAAAAgAAAAIAAAACAAAAAgAAAAIAAAACAAAAAgAAAAIAAAACAAAAAgAAAAIAAAACAAAAAgAAAAIAAAACAAAAAgAAAAIAAAACAAAAAgAAAAIAAAACAAAAAgAAAAIAAAACAAAAAgAAAAIAAAA=\",\"dtype\":\"int32\",\"order\":\"little\",\"shape\":[47]},\"principal component 1\":{\"__ndarray__\":\"cZicP/Wp8T/ndLjqfHDnP0lUdjeu3/M/jn2nUXn15z98t9eWSwfsPwHqCkTLn+c/ZYkX1wP06z/oYaNJSxH0PxVwyrRZu/U/XyqW1lWi2z+kboqoZcrwP15oZCMRkP0/W6OtkJqmAUCrkwP82gT3P8Cof1zh4v0/b0K5SJgIBkDjZzhbjmwCQPMm68uNAwBAH09oqvMjAkBsi3vYw9r1P6gQOb/Elfk/Nq6UReUl/j8W0QQIDXj5P3cdkBhdivc/QPYnSsB/A0AuhisDH3kKQJTn9rPvUgBANS4taDwvB0A/qLnnkUT7P6MJnj3aUv8/HNLu7wVR8D+Z2hYHfpP8P3wbVl0h1v0/h/hsDuZ7A0AytjE3VocCQGYtB9QUxP0/jU42KVhoBkCv+a/eUEj5P+zOTXR+jfU/OQUQICao/T8NDMQGFyEAQLZqwqkqc/4/Nw5TGLJYAEC4eb2NdgMAQO7gNY2o7f0/84JComFV+D8K9OTEsgX2Pw==\",\"dtype\":\"float64\",\"order\":\"little\",\"shape\":[47]},\"principal component 2\":{\"__ndarray__\":\"ynb2/Z2e6z8WPDfKBSjjP87NPSGgrOM/sV+rWRnr6D9aOXqk51HgP5lBqiETwtk/Tp7yIJwL0D9IiLBClya1vzcteShkC9U/Dwg+Gkhd6z+3k6QJ17XgP4Usy2Xw5Os/AcTpFji+4T9YlDOr+pqpv/dEGSLnotI/lgetLdY66T9AO0mDhTXaP6+Qnq/nKee/uo2XATu+/j8xoQKF0jTmP2V9L85taNu/ZadDi22E2j8yfGgVRqrlPzQ3rDJONNA/fTlsMT10BEAIlKQTDFhjvzx0hSJpCe0/VJKR42l12T+PWt+y8znwP5eAK36oDfA/jKj7cmzHsD/XvEvBKb3Iv4XkXX2vxeE/pV7ipF+Szz8e4TWwbAIFQICBO1NYo8e/Oys1XS0I6z+nj2oE2yjxPyD8A+M9Bts/taTAq3yE5T/Z+zteX4jjP9h2Ilnq8+U/uSJfoH+r6z87eOdp3MbwP/VDMiongNg/ettvjSkT0T8fLdG5BEPwPw==\",\"dtype\":\"float64\",\"order\":\"little\",\"shape\":[47]},\"principal_component_1\":{\"__ndarray__\":\"cZicP/Wp8T/ndLjqfHDnP0lUdjeu3/M/jn2nUXn15z98t9eWSwfsPwHqCkTLn+c/ZYkX1wP06z/oYaNJSxH0PxVwyrRZu/U/XyqW1lWi2z+kboqoZcrwP15oZCMRkP0/W6OtkJqmAUCrkwP82gT3P8Cof1zh4v0/b0K5SJgIBkDjZzhbjmwCQPMm68uNAwBAH09oqvMjAkBsi3vYw9r1P6gQOb/Elfk/Nq6UReUl/j8W0QQIDXj5P3cdkBhdivc/QPYnSsB/A0AuhisDH3kKQJTn9rPvUgBANS4taDwvB0A/qLnnkUT7P6MJnj3aUv8/HNLu7wVR8D+Z2hYHfpP8P3wbVl0h1v0/h/hsDuZ7A0AytjE3VocCQGYtB9QUxP0/jU42KVhoBkCv+a/eUEj5P+zOTXR+jfU/OQUQICao/T8NDMQGFyEAQLZqwqkqc/4/Nw5TGLJYAEC4eb2NdgMAQO7gNY2o7f0/84JComFV+D8K9OTEsgX2Pw==\",\"dtype\":\"float64\",\"order\":\"little\",\"shape\":[47]},\"principal_component_2\":{\"__ndarray__\":\"ynb2/Z2e6z8WPDfKBSjjP87NPSGgrOM/sV+rWRnr6D9aOXqk51HgP5lBqiETwtk/Tp7yIJwL0D9IiLBClya1vzcteShkC9U/Dwg+Gkhd6z+3k6QJ17XgP4Usy2Xw5Os/AcTpFji+4T9YlDOr+pqpv/dEGSLnotI/lgetLdY66T9AO0mDhTXaP6+Qnq/nKee/uo2XATu+/j8xoQKF0jTmP2V9L85taNu/ZadDi22E2j8yfGgVRqrlPzQ3rDJONNA/fTlsMT10BEAIlKQTDFhjvzx0hSJpCe0/VJKR42l12T+PWt+y8znwP5eAK36oDfA/jKj7cmzHsD/XvEvBKb3Iv4XkXX2vxeE/pV7ipF+Szz8e4TWwbAIFQICBO1NYo8e/Oys1XS0I6z+nj2oE2yjxPyD8A+M9Bts/taTAq3yE5T/Z+zteX4jjP9h2Ilnq8+U/uSJfoH+r6z87eOdp3MbwP/VDMiongNg/ettvjSkT0T8fLdG5BEPwPw==\",\"dtype\":\"float64\",\"order\":\"little\",\"shape\":[47]}},\"selected\":{\"id\":\"1941\"},\"selection_policy\":{\"id\":\"1959\"}},\"id\":\"1940\",\"type\":\"ColumnDataSource\"},{\"attributes\":{\"fill_alpha\":{\"value\":0.1},\"fill_color\":{\"value\":\"#e5ae38\"},\"hatch_alpha\":{\"value\":0.1},\"hatch_color\":{\"value\":\"#e5ae38\"},\"line_alpha\":{\"value\":0.1},\"line_color\":{\"value\":\"#e5ae38\"},\"size\":{\"value\":5.477225575051661},\"x\":{\"field\":\"principal component 1\"},\"y\":{\"field\":\"principal component 2\"}},\"id\":\"1944\",\"type\":\"Scatter\"},{\"attributes\":{},\"id\":\"1878\",\"type\":\"SaveTool\"},{\"attributes\":{\"label\":{\"value\":\"2\"},\"renderers\":[{\"id\":\"1946\"}]},\"id\":\"1962\",\"type\":\"LegendItem\"},{\"attributes\":{},\"id\":\"1893\",\"type\":\"AllLabels\"},{\"attributes\":{},\"id\":\"1941\",\"type\":\"Selection\"},{\"attributes\":{},\"id\":\"1879\",\"type\":\"PanTool\"},{\"attributes\":{},\"id\":\"1892\",\"type\":\"BasicTickFormatter\"},{\"attributes\":{\"end\":3.2604144520280895,\"reset_end\":3.2604144520280895,\"reset_start\":-3.1961060534153813,\"start\":-3.1961060534153813,\"tags\":[[[\"principal component 2\",\"principal component 2\",null]]]},\"id\":\"1857\",\"type\":\"Range1d\"},{\"attributes\":{\"fill_color\":{\"value\":\"#e5ae38\"},\"hatch_color\":{\"value\":\"#e5ae38\"},\"line_color\":{\"value\":\"#e5ae38\"},\"size\":{\"value\":5.477225575051661},\"x\":{\"field\":\"principal component 1\"},\"y\":{\"field\":\"principal component 2\"}},\"id\":\"1943\",\"type\":\"Scatter\"},{\"attributes\":{\"data\":{\"class\":{\"__ndarray__\":\"AAAAAAAAAAAAAAAAAAAAAAAAAAAAAAAAAAAAAAAAAAAAAAAAAAAAAAAAAAAAAAAAAAAAAAAAAAAAAAAAAAAAAAAAAAAAAAAAAAAAAAAAAAAAAAAAAAAAAAAAAAAAAAAAAAAAAAAAAAAAAAAAAAAAAAAAAAAAAAAAAAAAAAAAAAAAAAAAAAAAAAAAAAAAAAAAAAAAAAAAAAAAAAAAAAAAAAAAAAAAAAAAAAAAAAAAAAAAAAAAAAAAAAAAAAAAAAAAAAAAAAAAAAA=\",\"dtype\":\"int32\",\"order\":\"little\",\"shape\":[50]},\"principal component 1\":{\"__ndarray__\":\"PBG/DcgdAsCeflXa/7AAwC4tSgGQ8QLArHjV6/5uAsB8OOBfNxwDwK8JAJp1kADA6lhZG9GQA8C3vPx66N4BwLjvZ05UvALA4dUzb2iCAcDEACQK0k4BwH2PWzp4ngLAakHW4evKAcBwYBiPIx4FwN5kYiHQiQHA6cLFMQADAsC/icmkO58BwNLnRqd8hQHADbKL2CBO/r9tMd43N7gCwDUu6+IFov6/J3pNIB2jAcAiHszufzEGwHCyHOBnIP2/cG9EsmPTAcBlStBn+E//v+cJWiugagDAzhcE6nVYAcDx6Z27WB8BwCENM3l7JgLA3eURJwwoAcCuCNRTnk/9v3SUD3eZ3QTAxYxIYeyAA8Dh1TNvaIIBwATB4qBfsAHApwtPDPdaAMDh1TNvaIIBwJzdMoLUfAPAUiP02UddAcA54QHLzkoCwGBzDEaD8v2/Xflj5HF2BMD2iQQfsG3/v/eHnMYlEQHAnu7lFFWaAMDP+qMb0QwDwI9moB9/LwPAKZosq3LQAcDcjpZMy6UBwA==\",\"dtype\":\"float64\",\"order\":\"little\",\"shape\":[50]},\"principal component 2\":{\"__ndarray__\":\"W+9787ku4D/wF8lWE/nkv2zYpqjuYdS/CSSQjGlp4r/P0afLsZflP7O+IZP5S/g/ViSoGooWsz9teXQ10LHPP8kIOjG4hfG/hE6pnFa23L9iMKXTKCHxPzO/qP2XTMQ/o6o3kBix5r9+iXLvZwbuv86ryBtaPf4/jbWrfGrHBUBYjF03Ujj4PzD+/04udeA/60k0V9Tl9j8lpZIPTofyP1zAlsG9jNs/1vKSxId67j9Fu+o4P1TfPxnWDBwFVLs/Uu1BJITCxD+1YRod23Pjv2mqjuRgBtE/Z4xIfx6q4T/QGaA2hIvVP1ZBWpX4JtS/PwayRej43r/6lh54QH/cP7NxJTRvQf0/wLJwma57AUCETqmcVrbcvyLn16FhmMe/peVDvSnr5T+ETqmcVrbcv23EP1q7Ouy/b0SP1gm80j9KwmaGk/PdP3t/28YcnwLAle8l3FML3b9issu+Q9XfP+zeGJkvvvI/94wv2S8k5r9QqsG4/WjyP8mttwhpMde/cu6vZGBo8D+47UmWeoGgPw==\",\"dtype\":\"float64\",\"order\":\"little\",\"shape\":[50]},\"principal_component_1\":{\"__ndarray__\":\"PBG/DcgdAsCeflXa/7AAwC4tSgGQ8QLArHjV6/5uAsB8OOBfNxwDwK8JAJp1kADA6lhZG9GQA8C3vPx66N4BwLjvZ05UvALA4dUzb2iCAcDEACQK0k4BwH2PWzp4ngLAakHW4evKAcBwYBiPIx4FwN5kYiHQiQHA6cLFMQADAsC/icmkO58BwNLnRqd8hQHADbKL2CBO/r9tMd43N7gCwDUu6+IFov6/J3pNIB2jAcAiHszufzEGwHCyHOBnIP2/cG9EsmPTAcBlStBn+E//v+cJWiugagDAzhcE6nVYAcDx6Z27WB8BwCENM3l7JgLA3eURJwwoAcCuCNRTnk/9v3SUD3eZ3QTAxYxIYeyAA8Dh1TNvaIIBwATB4qBfsAHApwtPDPdaAMDh1TNvaIIBwJzdMoLUfAPAUiP02UddAcA54QHLzkoCwGBzDEaD8v2/Xflj5HF2BMD2iQQfsG3/v/eHnMYlEQHAnu7lFFWaAMDP+qMb0QwDwI9moB9/LwPAKZosq3LQAcDcjpZMy6UBwA==\",\"dtype\":\"float64\",\"order\":\"little\",\"shape\":[50]},\"principal_component_2\":{\"__ndarray__\":\"W+9787ku4D/wF8lWE/nkv2zYpqjuYdS/CSSQjGlp4r/P0afLsZflP7O+IZP5S/g/ViSoGooWsz9teXQ10LHPP8kIOjG4hfG/hE6pnFa23L9iMKXTKCHxPzO/qP2XTMQ/o6o3kBix5r9+iXLvZwbuv86ryBtaPf4/jbWrfGrHBUBYjF03Ujj4PzD+/04udeA/60k0V9Tl9j8lpZIPTofyP1zAlsG9jNs/1vKSxId67j9Fu+o4P1TfPxnWDBwFVLs/Uu1BJITCxD+1YRod23Pjv2mqjuRgBtE/Z4xIfx6q4T/QGaA2hIvVP1ZBWpX4JtS/PwayRej43r/6lh54QH/cP7NxJTRvQf0/wLJwma57AUCETqmcVrbcvyLn16FhmMe/peVDvSnr5T+ETqmcVrbcv23EP1q7Ouy/b0SP1gm80j9KwmaGk/PdP3t/28YcnwLAle8l3FML3b9issu+Q9XfP+zeGJkvvvI/94wv2S8k5r9QqsG4/WjyP8mttwhpMde/cu6vZGBo8D+47UmWeoGgPw==\",\"dtype\":\"float64\",\"order\":\"little\",\"shape\":[50]}},\"selected\":{\"id\":\"1898\"},\"selection_policy\":{\"id\":\"1912\"}},\"id\":\"1897\",\"type\":\"ColumnDataSource\"},{\"attributes\":{\"fill_color\":{\"value\":\"#fc4f30\"},\"hatch_color\":{\"value\":\"#fc4f30\"},\"line_color\":{\"value\":\"#fc4f30\"},\"size\":{\"value\":5.477225575051661},\"x\":{\"field\":\"principal component 1\"},\"y\":{\"field\":\"principal component 2\"}},\"id\":\"1921\",\"type\":\"Scatter\"},{\"attributes\":{},\"id\":\"1880\",\"type\":\"WheelZoomTool\"},{\"attributes\":{},\"id\":\"1895\",\"type\":\"BasicTickFormatter\"},{\"attributes\":{\"tools\":[{\"id\":\"1858\"},{\"id\":\"1878\"},{\"id\":\"1879\"},{\"id\":\"1880\"},{\"id\":\"1881\"},{\"id\":\"1882\"}]},\"id\":\"1884\",\"type\":\"Toolbar\"},{\"attributes\":{\"callback\":null,\"renderers\":[{\"id\":\"1903\"},{\"id\":\"1924\"},{\"id\":\"1946\"}],\"tags\":[\"hv_created\"],\"tooltips\":[[\"class\",\"@{class}\"],[\"principal component 1\",\"@{principal_component_1}\"],[\"principal component 2\",\"@{principal_component_2}\"]]},\"id\":\"1858\",\"type\":\"HoverTool\"},{\"attributes\":{\"margin\":[5,5,5,5],\"name\":\"HSpacer03295\",\"sizing_mode\":\"stretch_width\"},\"id\":\"2090\",\"type\":\"Spacer\"},{\"attributes\":{},\"id\":\"1919\",\"type\":\"Selection\"}],\"root_ids\":[\"1854\"]},\"title\":\"Bokeh Application\",\"version\":\"2.4.2\"}};\n",
       "    var render_items = [{\"docid\":\"707d502c-3bbb-4fea-96b1-1d2a5f89ff7f\",\"root_ids\":[\"1854\"],\"roots\":{\"1854\":\"bcf3f69a-9c74-4e6a-9db4-baca18ccbac8\"}}];\n",
       "    root.Bokeh.embed.embed_items_notebook(docs_json, render_items);\n",
       "  }\n",
       "  if (root.Bokeh !== undefined && root.Bokeh.Panel !== undefined) {\n",
       "    embed_document(root);\n",
       "  } else {\n",
       "    var attempts = 0;\n",
       "    var timer = setInterval(function(root) {\n",
       "      if (root.Bokeh !== undefined && root.Bokeh.Panel !== undefined) {\n",
       "        clearInterval(timer);\n",
       "        embed_document(root);\n",
       "      } else if (document.readyState == \"complete\") {\n",
       "        attempts++;\n",
       "        if (attempts > 200) {\n",
       "          clearInterval(timer);\n",
       "          console.log(\"Bokeh: ERROR: Unable to run BokehJS code because BokehJS library is missing\");\n",
       "        }\n",
       "      }\n",
       "    }, 25, root)\n",
       "  }\n",
       "})(window);</script>"
      ],
      "text/plain": [
       ":NdOverlay   [class]\n",
       "   :Scatter   [principal component 1]   (principal component 2,class)"
      ]
     },
     "execution_count": 23,
     "metadata": {
      "application/vnd.holoviews_exec.v0+json": {
       "id": "1854"
      }
     },
     "output_type": "execute_result"
    }
   ],
   "source": [
    "# Create a scatter plot of the clusters\n",
    "df_iris_pca.hvplot.scatter(x=\"principal component 1\",\n",
    "                           y=\"principal component 2\",\n",
    "                          hover_cols=[\"class\"],\n",
    "                          by=\"class\")"
   ]
  },
  {
   "cell_type": "code",
   "execution_count": null,
   "id": "d4efc14d",
   "metadata": {},
   "outputs": [],
   "source": []
  }
 ],
 "metadata": {
  "kernelspec": {
   "display_name": "mlenv",
   "language": "python",
   "name": "mlenv"
  },
  "language_info": {
   "codemirror_mode": {
    "name": "ipython",
    "version": 3
   },
   "file_extension": ".py",
   "mimetype": "text/x-python",
   "name": "python",
   "nbconvert_exporter": "python",
   "pygments_lexer": "ipython3",
   "version": "3.7.11"
  }
 },
 "nbformat": 4,
 "nbformat_minor": 5
}
